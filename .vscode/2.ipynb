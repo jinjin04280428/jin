{
 "cells": [
  {
   "cell_type": "code",
   "execution_count": 1,
   "metadata": {},
   "outputs": [
    {
     "name": "stdout",
     "output_type": "stream",
     "text": [
      "hi\n"
     ]
    }
   ],
   "source": [
    "print('hi')"
   ]
  },
  {
   "cell_type": "code",
   "execution_count": 3,
   "metadata": {},
   "outputs": [
    {
     "name": "stdout",
     "output_type": "stream",
     "text": [
      "0\n",
      "1\n",
      "2\n",
      "3\n",
      "4\n",
      "5\n",
      "6\n",
      "7\n",
      "8\n",
      "9\n"
     ]
    }
   ],
   "source": [
    "for i in range(10):\n",
    "    print(i)\n",
    "\n"
   ]
  },
  {
   "cell_type": "code",
   "execution_count": null,
   "metadata": {},
   "outputs": [],
   "source": [
    "for i in range(1,10):\n",
    "    print(f\"i={i}\")\n",
    "    for j in range(1,10):\n",
    "        print(f\"j={j}\",end=\" \")\n",
    "    print(\"n==========\")"
   ]
  },
  {
   "cell_type": "code",
   "execution_count": 4,
   "metadata": {},
   "outputs": [
    {
     "name": "stdout",
     "output_type": "stream",
     "text": [
      "1*1=1 1*2=2 1*3=3 1*4=4 1*5=5 1*6=6 1*7=7 1*8=8 1*9=9 \n",
      "\n",
      "2*1=2 2*2=4 2*3=6 2*4=8 2*5=10 2*6=12 2*7=14 2*8=16 2*9=18 \n",
      "\n",
      "3*1=3 3*2=6 3*3=9 3*4=12 3*5=15 3*6=18 3*7=21 3*8=24 3*9=27 \n",
      "\n",
      "4*1=4 4*2=8 4*3=12 4*4=16 4*5=20 4*6=24 4*7=28 4*8=32 4*9=36 \n",
      "\n",
      "5*1=5 5*2=10 5*3=15 5*4=20 5*5=25 5*6=30 5*7=35 5*8=40 5*9=45 \n",
      "\n",
      "6*1=6 6*2=12 6*3=18 6*4=24 6*5=30 6*6=36 6*7=42 6*8=48 6*9=54 \n",
      "\n",
      "7*1=7 7*2=14 7*3=21 7*4=28 7*5=35 7*6=42 7*7=49 7*8=56 7*9=63 \n",
      "\n",
      "8*1=8 8*2=16 8*3=24 8*4=32 8*5=40 8*6=48 8*7=56 8*8=64 8*9=72 \n",
      "\n",
      "9*1=9 9*2=18 9*3=27 9*4=36 9*5=45 9*6=54 9*7=63 9*8=72 9*9=81 \n",
      "\n"
     ]
    }
   ],
   "source": [
    "for i in range(1,10):\n",
    "    #print(f\"i={i}\")\n",
    "    for j in range(1,10):\n",
    "        print(f\"{i}*{j}={i*j}\",end=\" \")\n",
    "    print(\"\\n\")"
   ]
  },
  {
   "cell_type": "code",
   "execution_count": 5,
   "metadata": {},
   "outputs": [
    {
     "name": "stdout",
     "output_type": "stream",
     "text": [
      "已存夠了,存了2個月,總存了30000元\n"
     ]
    }
   ],
   "source": [
    "deposit=0\n",
    "months=0\n",
    "while(deposit<30000):\n",
    "    months+=1\n",
    "    value=int(input(f'請輸入第{months}月的存款:'))\n",
    "    deposit+=value\n",
    "print(f'已存夠了,存了{months}個月,總存了{deposit}元')\n"
   ]
  },
  {
   "cell_type": "code",
   "execution_count": 4,
   "metadata": {},
   "outputs": [
    {
     "name": "stdout",
     "output_type": "stream",
     "text": [
      "(所有輸入的正偶數的家總是:4)\n"
     ]
    }
   ],
   "source": [
    "\n",
    "sum=0\n",
    "num=0\n",
    "while True:\n",
    "    num>=1\n",
    "    input_value=int(input(f'請輸入第{num}個數值:'))\n",
    "    if input_value<0:\n",
    "        break\n",
    "    elif input_value%2==1:\n",
    "        continue\n",
    "    else:\n",
    "        sum+=input_value\n",
    "\n",
    "print(f'(所有輸入的正偶數的加總是:{sum})')"
   ]
  },
  {
   "cell_type": "code",
   "execution_count": 33,
   "metadata": {},
   "outputs": [
    {
     "data": {
      "text/plain": [
       "3"
      ]
     },
     "execution_count": 33,
     "metadata": {},
     "output_type": "execute_result"
    }
   ],
   "source": [
    "import random\n",
    "random.randrange(10)\n",
    "\n",
    "\n"
   ]
  },
  {
   "cell_type": "code",
   "execution_count": 53,
   "metadata": {},
   "outputs": [
    {
     "data": {
      "text/plain": [
       "3"
      ]
     },
     "execution_count": 53,
     "metadata": {},
     "output_type": "execute_result"
    }
   ],
   "source": [
    "import random\n",
    "random.randint(1,10)"
   ]
  },
  {
   "cell_type": "code",
   "execution_count": 64,
   "metadata": {},
   "outputs": [
    {
     "name": "stdout",
     "output_type": "stream",
     "text": [
      "====猜數字遊戲====\n",
      "\n",
      "\n",
      "猜錯\n",
      "您已經猜了1次\n",
      "賓果!猜對了,答案是:5\n",
      "您共猜了2次\n",
      "遊戲結束\n"
     ]
    }
   ],
   "source": [
    "import random\n",
    "min = 1\n",
    "max = 10\n",
    "count=0\n",
    "target = random.randint(min, max)\n",
    "print(\"====猜數字遊戲====\\n\\n\")\n",
    "while True:\n",
    "    keyin=int(input(f'猜數字範團{min}~{max}:'))\n",
    "    count+=1          \n",
    "    if(keyin == target):\n",
    "       print(f\"賓果!猜對了,答案是:{target}\")\n",
    "       print(f\"您共猜了{count}次\")\n",
    "       break\n",
    "    else:\n",
    "       print('猜錯')\n",
    "       print(f\"您已經猜了{count}次\")\n",
    "print(\"遊戲結束\")"
   ]
  },
  {
   "cell_type": "code",
   "execution_count": 54,
   "metadata": {},
   "outputs": [
    {
     "ename": "SyntaxError",
     "evalue": "unterminated string literal (detected at line 6) (1623049504.py, line 6)",
     "output_type": "error",
     "traceback": [
      "\u001b[0;36m  Cell \u001b[0;32mIn[54], line 6\u001b[0;36m\u001b[0m\n\u001b[0;31m    print(\"====猜數字遊戲====\\n\\n')\u001b[0m\n\u001b[0m          ^\u001b[0m\n\u001b[0;31mSyntaxError\u001b[0m\u001b[0;31m:\u001b[0m unterminated string literal (detected at line 6)\n"
     ]
    }
   ],
   "source": [
    "\n",
    "import random\n",
    "min = 1\n",
    "max = 100\n",
    "count=0\n",
    "target = random.randint(min, max)\n",
    "print(\"====猜數字遊戲====\\n\\n\")\n",
    "while True:\n",
    "    keyin=int(input(f'猜數字範團{min}~{max}:'))\n",
    "    count+=1          \n",
    "    if(keyin == target):\n",
    "       print(f\"賓果!猜對了,答案是:{target}\")\n",
    "       print(f\"您共猜了{count}次\")\n",
    "       break\n",
    "    elif keyin > target:  \n",
    "       print(\"再小一點\")\n",
    "       max = keyin-1\n",
    "    elif keyin < target: \n",
    "       print(\"再大一點\")\n",
    "       min = keyin + 1\n",
    "       print(f\"您已經猜了{count}次\")\n",
    "print('遊戲結束')"
   ]
  },
  {
   "cell_type": "code",
   "execution_count": 66,
   "metadata": {},
   "outputs": [
    {
     "name": "stdout",
     "output_type": "stream",
     "text": [
      "20.0\n",
      "10.5\n"
     ]
    }
   ],
   "source": [
    "def func1(para1:int,para2:int):\n",
    "    return para1*para2/2\n",
    "print (func1(5,8))\n",
    "print (func1(7,3))"
   ]
  },
  {
   "cell_type": "code",
   "execution_count": 69,
   "metadata": {},
   "outputs": [
    {
     "name": "stdout",
     "output_type": "stream",
     "text": [
      "====猜數字遊戲====\n",
      "\n",
      "\n",
      "再大一點\n",
      "您已經猜了1次\n",
      "再大一點\n",
      "您已經猜了2次\n",
      "再大一點\n",
      "您已經猜了3次\n",
      "再大一點\n",
      "您已經猜了4次\n"
     ]
    }
   ],
   "source": [
    "import random\n",
    "def playGame(): \n",
    "    min = 1\n",
    "    max = 100\n",
    "    count=0\n",
    "    target = random.randint(min, max)\n",
    "    print(\"====猜數字遊戲====\\n\\n\")\n",
    "    while True:\n",
    "        keyin=int(input(f'猜數字範團{min}~{max}:'))\n",
    "        count+=1          \n",
    "        if(keyin == target):\n",
    "            print(f\"賓果!猜對了,答案是:{target}\")\n",
    "            print(f\"您共猜了{count}次\")\n",
    "            break\n",
    "        elif keyin > target:  \n",
    "            print(\"再小一點\")\n",
    "            max = keyin-1\n",
    "        elif keyin < target: \n",
    "            print(\"再大一點\")\n",
    "            min = keyin + 1\n",
    "            print(f\"您已經猜了{count}次\")\n",
    "while(True) :\n",
    "    playGame()\n",
    "    play_again = input(\"還要玩嗎?(y,n)\")\n",
    "    if not (play_again == 'y'):\n",
    "       break           \n",
    "print('遊戲結束')\n"
   ]
  }
 ],
 "metadata": {
  "kernelspec": {
   "display_name": "Python 3",
   "language": "python",
   "name": "python3"
  },
  "language_info": {
   "codemirror_mode": {
    "name": "ipython",
    "version": 3
   },
   "file_extension": ".py",
   "mimetype": "text/x-python",
   "name": "python",
   "nbconvert_exporter": "python",
   "pygments_lexer": "ipython3",
   "version": "3.10.8"
  },
  "orig_nbformat": 4
 },
 "nbformat": 4,
 "nbformat_minor": 2
}
