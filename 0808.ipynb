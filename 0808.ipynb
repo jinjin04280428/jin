{
 "cells": [
  {
   "cell_type": "code",
   "execution_count": null,
   "metadata": {},
   "outputs": [],
   "source": [
    "import requests\n",
    "from bs4 import BeautifulSoup as bs\n",
    "import pandas as pd\n",
    "\n",
    "url = 'https://www.taifex.com.tw/cht/3/futDailyMarketReport?queryType=2&marketCode=0&dateaddcnt=&commodity_id=TX&commodity_id2=&queryDate=2023%2F08%2F07&MarketCode=0&commodity_idt=TX&commodity_id2t=&commodity_id2t2='\n",
    "res = requests.get(url)\n",
    "soup = bs(res.text, 'lxml')\n",
    "tb = soup.select('table')\n",
    "df = pd.read_html(tb[4].prettify())\n",
    "df[0]\n",
    "\n"
   ]
  },
  {
   "cell_type": "code",
   "execution_count": null,
   "metadata": {},
   "outputs": [],
   "source": [
    "import requests\n",
    "from bs4 import BeautifulSoup as bs\n",
    "import pandas as pd\n",
    "\n",
    "url = 'https://www.taifex.com.tw/cht/3/futDailyMarketReport'\n",
    "payload = {\n",
    "    'marketCode':0,\n",
    "    'commodity_id':'TX',\n",
    "    'queryDate':'2023/08/01'\n",
    "}\n",
    "payload['queryDate'] = '2023/08/01'\n",
    "res = requests.get(url, params = payload)\n",
    "soup = bs(res.text, 'lxml')\n",
    "tb = soup.select('table')\n",
    "df = pd.read_html(tb[4].prettify())\n",
    "df[0]"
   ]
  },
  {
   "cell_type": "code",
   "execution_count": null,
   "metadata": {},
   "outputs": [],
   "source": [
    "import requests\n",
    "from bs4 import BeautifulSoup as bs\n",
    "import pandas as pd\n",
    "\n",
    "url = 'https://www.taifex.com.tw/cht/3/futDailyMarketReport'\n",
    "payload = {\n",
    "    'marketCode':0,\n",
    "    'commodity_id':'TX',\n",
    "    'queryDate':'2023/08/01'\n",
    "}\n",
    "payload['queryDate'] = '2023/08/01'\n",
    "res = requests.post(url, data = payload)\n",
    "soup = bs(res.text, 'lxml')\n",
    "tb = soup.select('table')\n",
    "df = pd.read_html(tb[4].prettify())\n",
    "df[0]"
   ]
  },
  {
   "cell_type": "code",
   "execution_count": null,
   "metadata": {},
   "outputs": [],
   "source": [
    "import requests\n",
    "from bs4 import BeautifulSoup as bs\n",
    "import pandas as pd\n",
    "\n",
    "url = 'https://www.taifex.com.tw/cht/3/futDailyMarketReport?queryType=2&marketCode=0&dateaddcnt=&commodity_id=TX&commodity_id2=&queryDate=2023%2F08%2F07&MarketCode=0&commodity_idt=TX&commodity_id2t=&commodity_id2t2='\n",
    "res = requests.get(url)\n",
    "df = pd.read_html(res.text)\n",
    "df[4]"
   ]
  },
  {
   "cell_type": "code",
   "execution_count": null,
   "metadata": {},
   "outputs": [],
   "source": [
    "import requests\n",
    "from bs4 import BeautifulSoup as bs\n",
    "import pandas as pd\n",
    "import datetime as dt\n",
    "from dateutil.relativedelta import relativedelta\n",
    "\n",
    "url = 'https://www.taifex.com.tw/cht/3/futDailyMarketReport'\n",
    "payload = {\n",
    "    'marketCode':0,\n",
    "    'commodity_id':'TX',\n",
    "    'queryDate':'2023/08/01'\n",
    "}\n",
    "l = []\n",
    "base = dt.datetime.today() - relativedelta(days = 7)\n",
    "while base < dt.datetime.today():\n",
    "    date = base.strftime('%Y/%m/%d')\n",
    "    print(date)\n",
    "    payload['queryDate'] = date\n",
    "    res = requests.post(url, data = payload)\n",
    "    if res.text.find('查無資料') > -1:\n",
    "        base = base + relativedelta(days = 1)\n",
    "        continue\n",
    "    soup = bs(res.text, 'lxml')\n",
    "    tb = soup.select('table')\n",
    "    df = pd.read_html(tb[4].prettify())\n",
    "    df[0].insert(0, '日期', date)\n",
    "    l.append(df[0])    \n",
    "    base = base + relativedelta(days = 1)"
   ]
  },
  {
   "cell_type": "code",
   "execution_count": null,
   "metadata": {},
   "outputs": [],
   "source": [
    "df0 = pd.concat(l, ignore_index = True)\n",
    "df0 = df0[df0['契約'].isna() == False]\n",
    "df0 = df0.reset_index(drop = True)\n",
    "df0.to_csv('123.csv', encoding = 'Big5')\n",
    "df0.to_excel('123.xlsx')\n",
    "df0"
   ]
  },
  {
   "cell_type": "code",
   "execution_count": 1,
   "metadata": {},
   "outputs": [
    {
     "name": "stdout",
     "output_type": "stream",
     "text": [
      "a\n"
     ]
    }
   ],
   "source": [
    "print('a')"
   ]
  }
 ],
 "metadata": {
  "kernelspec": {
   "display_name": "Python 3",
   "language": "python",
   "name": "python3"
  },
  "language_info": {
   "codemirror_mode": {
    "name": "ipython",
    "version": 3
   },
   "file_extension": ".py",
   "mimetype": "text/x-python",
   "name": "python",
   "nbconvert_exporter": "python",
   "pygments_lexer": "ipython3",
   "version": "3.10.8"
  },
  "orig_nbformat": 4
 },
 "nbformat": 4,
 "nbformat_minor": 2
}
